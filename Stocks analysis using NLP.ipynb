{
 "cells": [
  {
   "cell_type": "markdown",
   "metadata": {},
   "source": [
    "# Analyzing daily stocks news to understand market sentiments which are mainly positive or negative"
   ]
  },
  {
   "cell_type": "code",
   "execution_count": 1,
   "metadata": {},
   "outputs": [],
   "source": [
    "import nltk\n",
    "import pandas as pd\n",
    "import selenium\n",
    "import numpy as np\n",
    "import bs4\n",
    "from bs4 import BeautifulSoup as bs\n",
    "import requests\n",
    "import urllib"
   ]
  },
  {
   "cell_type": "code",
   "execution_count": 2,
   "metadata": {},
   "outputs": [],
   "source": [
    "url = 'https://economictimes.indiatimes.com/markets/stocks/news'"
   ]
  },
  {
   "cell_type": "markdown",
   "metadata": {},
   "source": [
    "### Scrapping using Selenium"
   ]
  },
  {
   "cell_type": "code",
   "execution_count": 3,
   "metadata": {},
   "outputs": [],
   "source": [
    "import selenium\n",
    "from selenium import webdriver\n",
    "import time"
   ]
  },
  {
   "cell_type": "code",
   "execution_count": 4,
   "metadata": {},
   "outputs": [],
   "source": [
    "driver = webdriver.Chrome('Drivers/chromedriver.exe')\n",
    "driver.get(url)\n",
    "time.sleep(5)\n",
    "for i in range(5):\n",
    "    driver.execute_script(\"window.scrollBy(0,document.body.scrollHeight)\")\n",
    "driver.close()"
   ]
  },
  {
   "cell_type": "markdown",
   "metadata": {},
   "source": [
    "### Using beautifulSoup to parse the data"
   ]
  },
  {
   "cell_type": "code",
   "execution_count": 5,
   "metadata": {},
   "outputs": [],
   "source": [
    "page_html = bs(driver.page_source,\"html.parser\")"
   ]
  },
  {
   "cell_type": "markdown",
   "metadata": {},
   "source": [
    "### Extracting headlines and summary of each headline"
   ]
  },
  {
   "cell_type": "code",
   "execution_count": 6,
   "metadata": {},
   "outputs": [],
   "source": [
    "#Latest 48 headlines scrapped from economic times\n",
    "headlines = [page_html.findAll('h3')[i].text for i in range(len(page_html.findAll('h3'))) if page_html.findAll('h3')[i].text!=\"BULL'S EYE\" ][:-1]\n",
    "summary = [page_html.findAll('div',{'class':\"eachStory\"})[i].findAll('p')[0].text for i in range(len(page_html.findAll('div',{'class':\"eachStory\"})))]"
   ]
  },
  {
   "cell_type": "markdown",
   "metadata": {},
   "source": [
    "### Creating a raw dataframe"
   ]
  },
  {
   "cell_type": "code",
   "execution_count": 66,
   "metadata": {},
   "outputs": [],
   "source": [
    "features = ['Headlines','Summary']\n",
    "raw_data = pd.DataFrame(dict(zip(features,[headlines,summary])))"
   ]
  },
  {
   "cell_type": "code",
   "execution_count": 67,
   "metadata": {},
   "outputs": [
    {
     "data": {
      "text/html": [
       "<div>\n",
       "<style scoped>\n",
       "    .dataframe tbody tr th:only-of-type {\n",
       "        vertical-align: middle;\n",
       "    }\n",
       "\n",
       "    .dataframe tbody tr th {\n",
       "        vertical-align: top;\n",
       "    }\n",
       "\n",
       "    .dataframe thead th {\n",
       "        text-align: right;\n",
       "    }\n",
       "</style>\n",
       "<table border=\"1\" class=\"dataframe\">\n",
       "  <thead>\n",
       "    <tr style=\"text-align: right;\">\n",
       "      <th></th>\n",
       "      <th>Headlines</th>\n",
       "      <th>Summary</th>\n",
       "    </tr>\n",
       "  </thead>\n",
       "  <tbody>\n",
       "    <tr>\n",
       "      <th>0</th>\n",
       "      <td>Sebi extends CKYCR to legal entities</td>\n",
       "      <td>Regulated entities (REs) have already been upl...</td>\n",
       "    </tr>\n",
       "    <tr>\n",
       "      <th>1</th>\n",
       "      <td>New dividend policy to ensure consistent rewar...</td>\n",
       "      <td>The dividend policy has been further fine-tune...</td>\n",
       "    </tr>\n",
       "    <tr>\n",
       "      <th>2</th>\n",
       "      <td>RBI removes PCA restrictions on IDBI Bank</td>\n",
       "      <td>IDBI Bank was placed under the so-called PCA f...</td>\n",
       "    </tr>\n",
       "    <tr>\n",
       "      <th>3</th>\n",
       "      <td>UBS signals risk of India stocks trailing bond...</td>\n",
       "      <td>Continuing their rally from pandemic-driven lo...</td>\n",
       "    </tr>\n",
       "    <tr>\n",
       "      <th>4</th>\n",
       "      <td>F&amp;O: Nifty makes higher lows for a third sessi...</td>\n",
       "      <td>India VIX fell 7.79% from 22.49 to 20.74 level...</td>\n",
       "    </tr>\n",
       "    <tr>\n",
       "      <th>5</th>\n",
       "      <td>Tech View: Nifty wins a mini-battle, sets sigh...</td>\n",
       "      <td>After narrow trading for the last five session...</td>\n",
       "    </tr>\n",
       "    <tr>\n",
       "      <th>6</th>\n",
       "      <td>Anupam Rasayan IPO looks fully priced: Should ...</td>\n",
       "      <td>After annualising the earnings for the nine-mo...</td>\n",
       "    </tr>\n",
       "    <tr>\n",
       "      <th>7</th>\n",
       "      <td>Meet Zhong Shanshan, a reclusive entrepreneur ...</td>\n",
       "      <td>He became the first Chinese entrepreneur to en...</td>\n",
       "    </tr>\n",
       "    <tr>\n",
       "      <th>8</th>\n",
       "      <td>Is the stock market closed tomorrow?</td>\n",
       "      <td>Markets will be closed for trading on Thursday...</td>\n",
       "    </tr>\n",
       "    <tr>\n",
       "      <th>9</th>\n",
       "      <td>States budgets can help improve India's GDP pr...</td>\n",
       "      <td>The consolidated fiscal deficit of the Centre ...</td>\n",
       "    </tr>\n",
       "    <tr>\n",
       "      <th>10</th>\n",
       "      <td>Copper futures drop on weak demand</td>\n",
       "      <td>On MCX, copper contracts for March delivery ea...</td>\n",
       "    </tr>\n",
       "    <tr>\n",
       "      <th>11</th>\n",
       "      <td>NSE acquires 26% stake in IGX</td>\n",
       "      <td>IGC has over 500 registered clients and 15 mem...</td>\n",
       "    </tr>\n",
       "    <tr>\n",
       "      <th>12</th>\n",
       "      <td>Sensex gains 254 points as bulls lift Dalal St...</td>\n",
       "      <td>Analysts believe bond yields seem to be consol...</td>\n",
       "    </tr>\n",
       "    <tr>\n",
       "      <th>13</th>\n",
       "      <td>DRC Systems India lists on BSE, NSE</td>\n",
       "      <td>DRC Systems offers a vast range of customized ...</td>\n",
       "    </tr>\n",
       "    <tr>\n",
       "      <th>14</th>\n",
       "      <td>Sensex gains 254 pts, Nifty ends above 15,150;...</td>\n",
       "      <td>Extending its gains for the third straight ses...</td>\n",
       "    </tr>\n",
       "    <tr>\n",
       "      <th>15</th>\n",
       "      <td>Cement stocks on the cusp of a new growth cycl...</td>\n",
       "      <td>Shares of cement companies have been on an upt...</td>\n",
       "    </tr>\n",
       "    <tr>\n",
       "      <th>16</th>\n",
       "      <td>Stock market update: PSU Bank stocks mixed; Ce...</td>\n",
       "      <td>The Nifty PSU Bank index was trading 0.05 per ...</td>\n",
       "    </tr>\n",
       "    <tr>\n",
       "      <th>17</th>\n",
       "      <td>Stock market update: SmallCap stocks gain; MTN...</td>\n",
       "      <td>The S&amp;P BSE Smallcap index was trading 0.84 pe...</td>\n",
       "    </tr>\n",
       "    <tr>\n",
       "      <th>18</th>\n",
       "      <td>Craftsman Automation IPO: Price band, lot size...</td>\n",
       "      <td>The company proposes to utilise the net procee...</td>\n",
       "    </tr>\n",
       "    <tr>\n",
       "      <th>19</th>\n",
       "      <td>Share price of Torrent Pharmaceuticals Ltd.  f...</td>\n",
       "      <td>Promoters held 71.25 per cent stake in the com...</td>\n",
       "    </tr>\n",
       "    <tr>\n",
       "      <th>20</th>\n",
       "      <td>There has been a clear impact of job losses in...</td>\n",
       "      <td>We expect to clock strong growth and achieve s...</td>\n",
       "    </tr>\n",
       "    <tr>\n",
       "      <th>21</th>\n",
       "      <td>Stock market update: MidCap stocks advance; ID...</td>\n",
       "      <td>The S&amp;P BSE Midcap index was trading 0.69 per ...</td>\n",
       "    </tr>\n",
       "    <tr>\n",
       "      <th>22</th>\n",
       "      <td>Container Corporation of India Ltd. shares  fa...</td>\n",
       "      <td>The stock quoted a 52-week high price of Rs 64...</td>\n",
       "    </tr>\n",
       "    <tr>\n",
       "      <th>23</th>\n",
       "      <td>Share price of Indus Towers Ltd.  falls  as Ni...</td>\n",
       "      <td>A total of 20,606 shares changed hands on the ...</td>\n",
       "    </tr>\n",
       "    <tr>\n",
       "      <th>24</th>\n",
       "      <td>Marico Ltd. shares  down  0.4% as Nifty  gains</td>\n",
       "      <td>A total of 57,847 shares changed hands on the ...</td>\n",
       "    </tr>\n",
       "    <tr>\n",
       "      <th>25</th>\n",
       "      <td>Stock market update: Nifty Pharma index rises ...</td>\n",
       "      <td>The index was trading 1.2 per cent up at 12279.</td>\n",
       "    </tr>\n",
       "    <tr>\n",
       "      <th>26</th>\n",
       "      <td>Shares of Indian Oil Corporation Ltd.  fall  a...</td>\n",
       "      <td>On the technical charts, the 200-day moving av...</td>\n",
       "    </tr>\n",
       "    <tr>\n",
       "      <th>27</th>\n",
       "      <td>Stock market update: Nifty IT index jumps 2%; ...</td>\n",
       "      <td>The index was trading 1.95 per cent up at 2608...</td>\n",
       "    </tr>\n",
       "    <tr>\n",
       "      <th>28</th>\n",
       "      <td>Indraprastha Gas Ltd. shares  drop  1.54% as S...</td>\n",
       "      <td>The stock quoted a 52-week high of Rs 594.85 a...</td>\n",
       "    </tr>\n",
       "    <tr>\n",
       "      <th>29</th>\n",
       "      <td>GAIL (India) Ltd. shares  fall  0.87% as Nifty...</td>\n",
       "      <td>The stock quoted a 52-week high price of Rs 15...</td>\n",
       "    </tr>\n",
       "    <tr>\n",
       "      <th>30</th>\n",
       "      <td>Ambuja Cements Ltd. shares  down  0.02% as Nif...</td>\n",
       "      <td>A total of 141,205 shares changed hands on the...</td>\n",
       "    </tr>\n",
       "    <tr>\n",
       "      <th>31</th>\n",
       "      <td>Petronet LNG Ltd. shares  fall  1.77 per cent ...</td>\n",
       "      <td>The Relative Strength Index of the stock stood...</td>\n",
       "    </tr>\n",
       "    <tr>\n",
       "      <th>32</th>\n",
       "      <td>Ambuja Cements Ltd. shares  down  0.02% as Nif...</td>\n",
       "      <td>A total of 141,205 shares changed hands on the...</td>\n",
       "    </tr>\n",
       "    <tr>\n",
       "      <th>33</th>\n",
       "      <td>Petronet LNG Ltd. shares  fall  1.77 per cent ...</td>\n",
       "      <td>The Relative Strength Index of the stock stood...</td>\n",
       "    </tr>\n",
       "    <tr>\n",
       "      <th>34</th>\n",
       "      <td>Bosch Ltd. shares  0.0% as Nifty  gains</td>\n",
       "      <td>A total of 416 shares changed hands on the cou...</td>\n",
       "    </tr>\n",
       "    <tr>\n",
       "      <th>35</th>\n",
       "      <td>Stock market news: YES Bank shares fall</td>\n",
       "      <td>Shares of YES Bank Ltd. traded 0.31 per cent  ...</td>\n",
       "    </tr>\n",
       "    <tr>\n",
       "      <th>36</th>\n",
       "      <td>Share price of Bajaj Holdings &amp; Investment Ltd...</td>\n",
       "      <td>A total of 128 shares changed hands on the cou...</td>\n",
       "    </tr>\n",
       "    <tr>\n",
       "      <th>37</th>\n",
       "      <td>Shares of PI Industries Ltd.  rise  as Nifty  ...</td>\n",
       "      <td>On the technical charts, the 200-day moving av...</td>\n",
       "    </tr>\n",
       "    <tr>\n",
       "      <th>38</th>\n",
       "      <td>Stock market news: BHEL shares price gains nea...</td>\n",
       "      <td>A total of 3,836,729 shares changed hands on t...</td>\n",
       "    </tr>\n",
       "    <tr>\n",
       "      <th>39</th>\n",
       "      <td>Shares of Pidilite Industries Ltd.  fall  as N...</td>\n",
       "      <td>On the technical charts, the 200-day moving av...</td>\n",
       "    </tr>\n",
       "    <tr>\n",
       "      <th>40</th>\n",
       "      <td>Half of Indian fund managers' conviction ideas...</td>\n",
       "      <td>Analysts said V-Mart has seen a better recover...</td>\n",
       "    </tr>\n",
       "    <tr>\n",
       "      <th>41</th>\n",
       "      <td>Share price of Colgate-Palmolive (India) Ltd. ...</td>\n",
       "      <td>A total of 6,140 shares changed hands on the c...</td>\n",
       "    </tr>\n",
       "    <tr>\n",
       "      <th>42</th>\n",
       "      <td>Share price of MRF Ltd.  rises  as Nifty  stre...</td>\n",
       "      <td>A total of 337 shares changed hands on the cou...</td>\n",
       "    </tr>\n",
       "    <tr>\n",
       "      <th>43</th>\n",
       "      <td>Biocon Ltd. shares  rise  2.58% as Sensex  cli...</td>\n",
       "      <td>A total of 264,741 shares changed hands on the...</td>\n",
       "    </tr>\n",
       "    <tr>\n",
       "      <th>44</th>\n",
       "      <td>Stock market news: RIL shares trade flat with ...</td>\n",
       "      <td>A total of 171,236 shares changed hands on the...</td>\n",
       "    </tr>\n",
       "    <tr>\n",
       "      <th>45</th>\n",
       "      <td>Vedanta Ltd. shares  down  0.94% as Nifty  gains</td>\n",
       "      <td>A total of 289,905 shares changed hands on the...</td>\n",
       "    </tr>\n",
       "    <tr>\n",
       "      <th>46</th>\n",
       "      <td>Stock market update: 4 stocks hit 52-week lows...</td>\n",
       "      <td>Domestic benchmark index NSE Nifty was trading...</td>\n",
       "    </tr>\n",
       "    <tr>\n",
       "      <th>47</th>\n",
       "      <td>Aurobindo Pharma Ltd. shares  gain  0.13% as S...</td>\n",
       "      <td>The stock quoted a 52-week high of Rs 1023.1 a...</td>\n",
       "    </tr>\n",
       "  </tbody>\n",
       "</table>\n",
       "</div>"
      ],
      "text/plain": [
       "                                            Headlines  \\\n",
       "0                Sebi extends CKYCR to legal entities   \n",
       "1   New dividend policy to ensure consistent rewar...   \n",
       "2           RBI removes PCA restrictions on IDBI Bank   \n",
       "3   UBS signals risk of India stocks trailing bond...   \n",
       "4   F&O: Nifty makes higher lows for a third sessi...   \n",
       "5   Tech View: Nifty wins a mini-battle, sets sigh...   \n",
       "6   Anupam Rasayan IPO looks fully priced: Should ...   \n",
       "7   Meet Zhong Shanshan, a reclusive entrepreneur ...   \n",
       "8                Is the stock market closed tomorrow?   \n",
       "9   States budgets can help improve India's GDP pr...   \n",
       "10                 Copper futures drop on weak demand   \n",
       "11                      NSE acquires 26% stake in IGX   \n",
       "12  Sensex gains 254 points as bulls lift Dalal St...   \n",
       "13                DRC Systems India lists on BSE, NSE   \n",
       "14  Sensex gains 254 pts, Nifty ends above 15,150;...   \n",
       "15  Cement stocks on the cusp of a new growth cycl...   \n",
       "16  Stock market update: PSU Bank stocks mixed; Ce...   \n",
       "17  Stock market update: SmallCap stocks gain; MTN...   \n",
       "18  Craftsman Automation IPO: Price band, lot size...   \n",
       "19  Share price of Torrent Pharmaceuticals Ltd.  f...   \n",
       "20  There has been a clear impact of job losses in...   \n",
       "21  Stock market update: MidCap stocks advance; ID...   \n",
       "22  Container Corporation of India Ltd. shares  fa...   \n",
       "23  Share price of Indus Towers Ltd.  falls  as Ni...   \n",
       "24    Marico Ltd. shares  down  0.4% as Nifty  gains    \n",
       "25  Stock market update: Nifty Pharma index rises ...   \n",
       "26  Shares of Indian Oil Corporation Ltd.  fall  a...   \n",
       "27  Stock market update: Nifty IT index jumps 2%; ...   \n",
       "28  Indraprastha Gas Ltd. shares  drop  1.54% as S...   \n",
       "29  GAIL (India) Ltd. shares  fall  0.87% as Nifty...   \n",
       "30  Ambuja Cements Ltd. shares  down  0.02% as Nif...   \n",
       "31  Petronet LNG Ltd. shares  fall  1.77 per cent ...   \n",
       "32  Ambuja Cements Ltd. shares  down  0.02% as Nif...   \n",
       "33  Petronet LNG Ltd. shares  fall  1.77 per cent ...   \n",
       "34           Bosch Ltd. shares  0.0% as Nifty  gains    \n",
       "35            Stock market news: YES Bank shares fall   \n",
       "36  Share price of Bajaj Holdings & Investment Ltd...   \n",
       "37  Shares of PI Industries Ltd.  rise  as Nifty  ...   \n",
       "38  Stock market news: BHEL shares price gains nea...   \n",
       "39  Shares of Pidilite Industries Ltd.  fall  as N...   \n",
       "40  Half of Indian fund managers' conviction ideas...   \n",
       "41  Share price of Colgate-Palmolive (India) Ltd. ...   \n",
       "42  Share price of MRF Ltd.  rises  as Nifty  stre...   \n",
       "43  Biocon Ltd. shares  rise  2.58% as Sensex  cli...   \n",
       "44  Stock market news: RIL shares trade flat with ...   \n",
       "45  Vedanta Ltd. shares  down  0.94% as Nifty  gains    \n",
       "46  Stock market update: 4 stocks hit 52-week lows...   \n",
       "47  Aurobindo Pharma Ltd. shares  gain  0.13% as S...   \n",
       "\n",
       "                                              Summary  \n",
       "0   Regulated entities (REs) have already been upl...  \n",
       "1   The dividend policy has been further fine-tune...  \n",
       "2   IDBI Bank was placed under the so-called PCA f...  \n",
       "3   Continuing their rally from pandemic-driven lo...  \n",
       "4   India VIX fell 7.79% from 22.49 to 20.74 level...  \n",
       "5   After narrow trading for the last five session...  \n",
       "6   After annualising the earnings for the nine-mo...  \n",
       "7   He became the first Chinese entrepreneur to en...  \n",
       "8   Markets will be closed for trading on Thursday...  \n",
       "9   The consolidated fiscal deficit of the Centre ...  \n",
       "10  On MCX, copper contracts for March delivery ea...  \n",
       "11  IGC has over 500 registered clients and 15 mem...  \n",
       "12  Analysts believe bond yields seem to be consol...  \n",
       "13  DRC Systems offers a vast range of customized ...  \n",
       "14  Extending its gains for the third straight ses...  \n",
       "15  Shares of cement companies have been on an upt...  \n",
       "16  The Nifty PSU Bank index was trading 0.05 per ...  \n",
       "17  The S&P BSE Smallcap index was trading 0.84 pe...  \n",
       "18  The company proposes to utilise the net procee...  \n",
       "19  Promoters held 71.25 per cent stake in the com...  \n",
       "20  We expect to clock strong growth and achieve s...  \n",
       "21  The S&P BSE Midcap index was trading 0.69 per ...  \n",
       "22  The stock quoted a 52-week high price of Rs 64...  \n",
       "23  A total of 20,606 shares changed hands on the ...  \n",
       "24  A total of 57,847 shares changed hands on the ...  \n",
       "25    The index was trading 1.2 per cent up at 12279.  \n",
       "26  On the technical charts, the 200-day moving av...  \n",
       "27  The index was trading 1.95 per cent up at 2608...  \n",
       "28  The stock quoted a 52-week high of Rs 594.85 a...  \n",
       "29  The stock quoted a 52-week high price of Rs 15...  \n",
       "30  A total of 141,205 shares changed hands on the...  \n",
       "31  The Relative Strength Index of the stock stood...  \n",
       "32  A total of 141,205 shares changed hands on the...  \n",
       "33  The Relative Strength Index of the stock stood...  \n",
       "34  A total of 416 shares changed hands on the cou...  \n",
       "35  Shares of YES Bank Ltd. traded 0.31 per cent  ...  \n",
       "36  A total of 128 shares changed hands on the cou...  \n",
       "37  On the technical charts, the 200-day moving av...  \n",
       "38  A total of 3,836,729 shares changed hands on t...  \n",
       "39  On the technical charts, the 200-day moving av...  \n",
       "40  Analysts said V-Mart has seen a better recover...  \n",
       "41  A total of 6,140 shares changed hands on the c...  \n",
       "42  A total of 337 shares changed hands on the cou...  \n",
       "43  A total of 264,741 shares changed hands on the...  \n",
       "44  A total of 171,236 shares changed hands on the...  \n",
       "45  A total of 289,905 shares changed hands on the...  \n",
       "46  Domestic benchmark index NSE Nifty was trading...  \n",
       "47  The stock quoted a 52-week high of Rs 1023.1 a...  "
      ]
     },
     "execution_count": 67,
     "metadata": {},
     "output_type": "execute_result"
    }
   ],
   "source": [
    "raw_data"
   ]
  },
  {
   "cell_type": "markdown",
   "metadata": {},
   "source": [
    "# Text preprocessing using nltk"
   ]
  },
  {
   "cell_type": "code",
   "execution_count": 68,
   "metadata": {},
   "outputs": [],
   "source": [
    "import nltk\n",
    "import string\n",
    "import re\n",
    "import inflect"
   ]
  },
  {
   "cell_type": "code",
   "execution_count": 69,
   "metadata": {},
   "outputs": [
    {
     "name": "stderr",
     "output_type": "stream",
     "text": [
      "[nltk_data] Downloading package stopwords to\n",
      "[nltk_data]     C:\\Users\\tejas\\AppData\\Roaming\\nltk_data...\n",
      "[nltk_data]   Package stopwords is already up-to-date!\n",
      "[nltk_data] Downloading package punkt to\n",
      "[nltk_data]     C:\\Users\\tejas\\AppData\\Roaming\\nltk_data...\n",
      "[nltk_data]   Package punkt is already up-to-date!\n"
     ]
    },
    {
     "data": {
      "text/plain": [
       "True"
      ]
     },
     "execution_count": 69,
     "metadata": {},
     "output_type": "execute_result"
    }
   ],
   "source": [
    "from nltk.corpus import stopwords\n",
    "from nltk.tokenize import word_tokenize\n",
    "nltk.download('stopwords')\n",
    "nltk.download('punkt')"
   ]
  },
  {
   "cell_type": "code",
   "execution_count": 70,
   "metadata": {},
   "outputs": [],
   "source": [
    "def lowercase(x):\n",
    "    return x.lower()"
   ]
  },
  {
   "cell_type": "code",
   "execution_count": 71,
   "metadata": {},
   "outputs": [],
   "source": [
    "def replace_percent(x):\n",
    "    string = []\n",
    "    for i in x:\n",
    "        if i=='%':\n",
    "            string.append(' percent')\n",
    "        else:\n",
    "            string.append(i)\n",
    "        temp_str = ''.join(string)\n",
    "    return temp_str"
   ]
  },
  {
   "cell_type": "code",
   "execution_count": 72,
   "metadata": {},
   "outputs": [],
   "source": [
    "def remove_stop_words(x):\n",
    "    stop_words = set(stopwords.words('english'))\n",
    "    word_tokens = word_tokenize(x)\n",
    "    filtered_text = [word.strip() for word in word_tokens if word not in stop_words]\n",
    "    filtered_text = [word.strip() for word in filtered_text if word != ' ']\n",
    "    return filtered_text"
   ]
  },
  {
   "cell_type": "code",
   "execution_count": 73,
   "metadata": {},
   "outputs": [],
   "source": [
    "def remove_punctuations(x):\n",
    "    translator = str.maketrans('','',string.punctuation)\n",
    "    return x.translate(translator)"
   ]
  },
  {
   "cell_type": "code",
   "execution_count": 74,
   "metadata": {},
   "outputs": [],
   "source": [
    "def remove_numbers(x):\n",
    "    temp = x\n",
    "    new_str = []\n",
    "    for word in temp:\n",
    "        if word.isdigit():\n",
    "            new_str.append('')\n",
    "        else:\n",
    "            new_str.append(word)\n",
    "    return new_str"
   ]
  },
  {
   "cell_type": "code",
   "execution_count": null,
   "metadata": {},
   "outputs": [],
   "source": []
  },
  {
   "cell_type": "code",
   "execution_count": 75,
   "metadata": {},
   "outputs": [],
   "source": [
    "raw_data['Headlines'] = raw_data['Headlines'].apply(lowercase)\n",
    "raw_data['Headlines'] = raw_data['Headlines'].apply(replace_percent)\n",
    "raw_data['Headlines'] = raw_data['Headlines'].apply(remove_punctuations)\n",
    "raw_data['Headlines'] = raw_data['Headlines'].apply(remove_stop_words)\n",
    "raw_data['Headlines'] = raw_data['Headlines'].apply(remove_numbers)\n",
    "\n",
    "\n",
    "raw_data['Summary'] = raw_data['Summary'].apply(lowercase)\n",
    "raw_data['Summary'] = raw_data['Summary'].apply(replace_percent)\n",
    "raw_data['Summary'] = raw_data['Summary'].apply(remove_punctuations)\n",
    "raw_data['Summary'] = raw_data['Summary'].apply(remove_stop_words)\n",
    "raw_data['Summary'] = raw_data['Summary'].apply(remove_numbers)"
   ]
  },
  {
   "cell_type": "code",
   "execution_count": 76,
   "metadata": {},
   "outputs": [],
   "source": [
    "#Now we will apply lemmatization to get similar words and better generalize.\n",
    "#For lemmatization we need to have our sentences in tokenized form."
   ]
  },
  {
   "cell_type": "markdown",
   "metadata": {},
   "source": [
    "#### Lemmatization"
   ]
  },
  {
   "cell_type": "code",
   "execution_count": 77,
   "metadata": {},
   "outputs": [
    {
     "name": "stderr",
     "output_type": "stream",
     "text": [
      "[nltk_data] Downloading package wordnet to\n",
      "[nltk_data]     C:\\Users\\tejas\\AppData\\Roaming\\nltk_data...\n",
      "[nltk_data]   Package wordnet is already up-to-date!\n"
     ]
    },
    {
     "data": {
      "text/plain": [
       "True"
      ]
     },
     "execution_count": 77,
     "metadata": {},
     "output_type": "execute_result"
    }
   ],
   "source": [
    "from nltk.stem import wordnet\n",
    "lemma = wordnet.WordNetLemmatizer()\n",
    "nltk.download('wordnet')"
   ]
  },
  {
   "cell_type": "code",
   "execution_count": 78,
   "metadata": {},
   "outputs": [],
   "source": [
    "def lemmatize_word(x):\n",
    "    lemmas = [lemma.lemmatize(word,pos = 'v') for word in x]\n",
    "    return lemmas"
   ]
  },
  {
   "cell_type": "code",
   "execution_count": 79,
   "metadata": {},
   "outputs": [],
   "source": [
    "raw_data['Headlines'] = raw_data['Headlines'].apply(lemmatize_word)\n",
    "raw_data['Summary'] = raw_data['Summary'].apply(lemmatize_word)"
   ]
  },
  {
   "cell_type": "code",
   "execution_count": 80,
   "metadata": {},
   "outputs": [
    {
     "name": "stderr",
     "output_type": "stream",
     "text": [
      "[nltk_data] Downloading package punkt to\n",
      "[nltk_data]     C:\\Users\\tejas\\AppData\\Roaming\\nltk_data...\n",
      "[nltk_data]   Package punkt is already up-to-date!\n"
     ]
    },
    {
     "data": {
      "text/plain": [
       "True"
      ]
     },
     "execution_count": 80,
     "metadata": {},
     "output_type": "execute_result"
    }
   ],
   "source": [
    "import nltk\n",
    "nltk.download('punkt')"
   ]
  },
  {
   "cell_type": "code",
   "execution_count": 87,
   "metadata": {},
   "outputs": [],
   "source": [
    "def drop_zero_len_string(x):\n",
    "    s = []\n",
    "    for i in x:\n",
    "        if i=='':\n",
    "            pass\n",
    "        else:\n",
    "            s.append(i)\n",
    "    return s"
   ]
  },
  {
   "cell_type": "code",
   "execution_count": 89,
   "metadata": {},
   "outputs": [],
   "source": [
    "raw_data['Summary'] = raw_data['Summary'].apply(drop_zero_len_string)\n",
    "raw_data['Headlines'] = raw_data['Headlines'].apply(drop_zero_len_string)"
   ]
  },
  {
   "cell_type": "markdown",
   "metadata": {},
   "source": [
    "# Parts of Speech (POS) Tagging"
   ]
  },
  {
   "cell_type": "code",
   "execution_count": 90,
   "metadata": {},
   "outputs": [
    {
     "name": "stderr",
     "output_type": "stream",
     "text": [
      "[nltk_data] Downloading package averaged_perceptron_tagger to\n",
      "[nltk_data]     C:\\Users\\tejas\\AppData\\Roaming\\nltk_data...\n",
      "[nltk_data]   Package averaged_perceptron_tagger is already up-to-\n",
      "[nltk_data]       date!\n"
     ]
    }
   ],
   "source": [
    "from nltk import pos_tag\n",
    "nltk.download('averaged_perceptron_tagger')\n",
    "def pos_tagg(text): \n",
    "    return pos_tag(text)"
   ]
  },
  {
   "cell_type": "code",
   "execution_count": 91,
   "metadata": {},
   "outputs": [],
   "source": [
    "raw_data['Headlines'] = raw_data['Headlines'].apply(pos_tagg)\n",
    "raw_data['Summary'] = raw_data['Summary'].apply(pos_tagg)"
   ]
  },
  {
   "cell_type": "code",
   "execution_count": 93,
   "metadata": {},
   "outputs": [
    {
     "data": {
      "text/html": [
       "<div>\n",
       "<style scoped>\n",
       "    .dataframe tbody tr th:only-of-type {\n",
       "        vertical-align: middle;\n",
       "    }\n",
       "\n",
       "    .dataframe tbody tr th {\n",
       "        vertical-align: top;\n",
       "    }\n",
       "\n",
       "    .dataframe thead th {\n",
       "        text-align: right;\n",
       "    }\n",
       "</style>\n",
       "<table border=\"1\" class=\"dataframe\">\n",
       "  <thead>\n",
       "    <tr style=\"text-align: right;\">\n",
       "      <th></th>\n",
       "      <th>Headlines</th>\n",
       "      <th>Summary</th>\n",
       "    </tr>\n",
       "  </thead>\n",
       "  <tbody>\n",
       "    <tr>\n",
       "      <th>0</th>\n",
       "      <td>[(sebi, JJ), (extend, VBP), (ckycr, JJ), (lega...</td>\n",
       "      <td>[(regulate, NN), (entities, NNS), (res, VBZ), ...</td>\n",
       "    </tr>\n",
       "    <tr>\n",
       "      <th>1</th>\n",
       "      <td>[(new, JJ), (dividend, NN), (policy, NN), (ens...</td>\n",
       "      <td>[(dividend, NN), (policy, NN), (finetuned, VBN...</td>\n",
       "    </tr>\n",
       "    <tr>\n",
       "      <th>2</th>\n",
       "      <td>[(rbi, NN), (remove, VB), (pca, NN), (restrict...</td>\n",
       "      <td>[(idbi, JJ), (bank, NN), (place, NN), (socalle...</td>\n",
       "    </tr>\n",
       "    <tr>\n",
       "      <th>3</th>\n",
       "      <td>[(ubs, JJ), (signal, NN), (risk, NN), (india, ...</td>\n",
       "      <td>[(continue, VB), (rally, RB), (pandemicdriven,...</td>\n",
       "    </tr>\n",
       "    <tr>\n",
       "      <th>4</th>\n",
       "      <td>[(fo, JJ), (nifty, NNS), (make, VBP), (higher,...</td>\n",
       "      <td>[(india, NN), (vix, NN), (fell, VBD), (percent...</td>\n",
       "    </tr>\n",
       "  </tbody>\n",
       "</table>\n",
       "</div>"
      ],
      "text/plain": [
       "                                           Headlines  \\\n",
       "0  [(sebi, JJ), (extend, VBP), (ckycr, JJ), (lega...   \n",
       "1  [(new, JJ), (dividend, NN), (policy, NN), (ens...   \n",
       "2  [(rbi, NN), (remove, VB), (pca, NN), (restrict...   \n",
       "3  [(ubs, JJ), (signal, NN), (risk, NN), (india, ...   \n",
       "4  [(fo, JJ), (nifty, NNS), (make, VBP), (higher,...   \n",
       "\n",
       "                                             Summary  \n",
       "0  [(regulate, NN), (entities, NNS), (res, VBZ), ...  \n",
       "1  [(dividend, NN), (policy, NN), (finetuned, VBN...  \n",
       "2  [(idbi, JJ), (bank, NN), (place, NN), (socalle...  \n",
       "3  [(continue, VB), (rally, RB), (pandemicdriven,...  \n",
       "4  [(india, NN), (vix, NN), (fell, VBD), (percent...  "
      ]
     },
     "execution_count": 93,
     "metadata": {},
     "output_type": "execute_result"
    }
   ],
   "source": [
    "raw_data.head()"
   ]
  },
  {
   "cell_type": "code",
   "execution_count": 97,
   "metadata": {},
   "outputs": [
    {
     "name": "stdout",
     "output_type": "stream",
     "text": [
      "NN: noun, common, singular or mass\n",
      "    common-carrier cabbage knuckle-duster Casino afghan shed thermostat\n",
      "    investment slide humour falloff slick wind hyena override subhumanity\n",
      "    machinist ...\n"
     ]
    },
    {
     "name": "stderr",
     "output_type": "stream",
     "text": [
      "[nltk_data] Downloading package tagsets to\n",
      "[nltk_data]     C:\\Users\\tejas\\AppData\\Roaming\\nltk_data...\n",
      "[nltk_data]   Package tagsets is already up-to-date!\n"
     ]
    }
   ],
   "source": [
    "# downloading the tagset  \n",
    "nltk.download('tagsets') \n",
    "  \n",
    "# extract information about the tag \n",
    "nltk.help.upenn_tagset('NN')"
   ]
  },
  {
   "cell_type": "code",
   "execution_count": null,
   "metadata": {},
   "outputs": [],
   "source": []
  }
 ],
 "metadata": {
  "kernelspec": {
   "display_name": "Python 3",
   "language": "python",
   "name": "python3"
  },
  "language_info": {
   "codemirror_mode": {
    "name": "ipython",
    "version": 3
   },
   "file_extension": ".py",
   "mimetype": "text/x-python",
   "name": "python",
   "nbconvert_exporter": "python",
   "pygments_lexer": "ipython3",
   "version": "3.7.4"
  }
 },
 "nbformat": 4,
 "nbformat_minor": 2
}
