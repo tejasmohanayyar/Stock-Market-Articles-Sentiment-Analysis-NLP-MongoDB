{
 "cells": [
  {
   "cell_type": "markdown",
   "metadata": {},
   "source": [
    "# Analyzing daily stocks news to understand market sentiments."
   ]
  },
  {
   "cell_type": "code",
   "execution_count": 161,
   "metadata": {},
   "outputs": [],
   "source": [
    "import nltk\n",
    "import pandas as pd\n",
    "import selenium\n",
    "import numpy as np\n",
    "from bs4 import BeautifulSoup as bs\n",
    "import matplotlib.pyplot as plt\n",
    "import requests\n",
    "import numpy as np"
   ]
  },
  {
   "cell_type": "code",
   "execution_count": 56,
   "metadata": {},
   "outputs": [],
   "source": [
    "url = 'https://economictimes.indiatimes.com/markets/stocks/news/'"
   ]
  },
  {
   "cell_type": "markdown",
   "metadata": {},
   "source": [
    "### Scrapping using Selenium"
   ]
  },
  {
   "cell_type": "code",
   "execution_count": 57,
   "metadata": {},
   "outputs": [],
   "source": [
    "import selenium\n",
    "from selenium import webdriver\n",
    "import time"
   ]
  },
  {
   "cell_type": "code",
   "execution_count": null,
   "metadata": {},
   "outputs": [],
   "source": []
  },
  {
   "cell_type": "code",
   "execution_count": null,
   "metadata": {},
   "outputs": [],
   "source": []
  },
  {
   "cell_type": "code",
   "execution_count": null,
   "metadata": {},
   "outputs": [],
   "source": []
  },
  {
   "cell_type": "code",
   "execution_count": null,
   "metadata": {},
   "outputs": [],
   "source": []
  },
  {
   "cell_type": "markdown",
   "metadata": {},
   "source": [
    "# Getting the top 50 latest headlines and summaries of stocks news"
   ]
  },
  {
   "cell_type": "code",
   "execution_count": null,
   "metadata": {},
   "outputs": [],
   "source": []
  },
  {
   "cell_type": "code",
   "execution_count": 192,
   "metadata": {
    "scrolled": true
   },
   "outputs": [],
   "source": [
    "driver = webdriver.Chrome('Drivers/chromedriver.exe')\n",
    "driver.get(url)\n",
    "time.sleep(5)\n",
    "for i in range(5):\n",
    "    driver.execute_script(\"window.scrollBy(0,document.body.scrollHeight)\")"
   ]
  },
  {
   "cell_type": "code",
   "execution_count": null,
   "metadata": {},
   "outputs": [],
   "source": [
    "driver.find_by"
   ]
  },
  {
   "cell_type": "markdown",
   "metadata": {},
   "source": [
    "### Using beautifulSoup to parse the data"
   ]
  },
  {
   "cell_type": "code",
   "execution_count": 185,
   "metadata": {},
   "outputs": [],
   "source": [
    "page_html = bs(driver.page_source,\"html.parser\")\n",
    "driver.close()"
   ]
  },
  {
   "cell_type": "code",
   "execution_count": null,
   "metadata": {},
   "outputs": [],
   "source": []
  },
  {
   "cell_type": "code",
   "execution_count": null,
   "metadata": {},
   "outputs": [],
   "source": []
  },
  {
   "cell_type": "code",
   "execution_count": 186,
   "metadata": {},
   "outputs": [],
   "source": [
    "#How to read each article\n",
    "#Access_URL = requests.get(each_article_url[0])\n",
    "#Get_content_out = Access_URL.content\n",
    "#Get_only_article = Get_content_out.find('div',{'class':'artText'}).text"
   ]
  },
  {
   "cell_type": "markdown",
   "metadata": {},
   "source": [
    "### Extracting headlines and summary of each headline"
   ]
  },
  {
   "cell_type": "code",
   "execution_count": 187,
   "metadata": {},
   "outputs": [],
   "source": [
    "#Latest 48 headlines scrapped from economic times\n",
    "start = time.time()\n",
    "headlines = [page_html.findAll('h3')[i].text for i in range(len(page_html.findAll('h3'))) if page_html.findAll('h3')[i].text != \"BULL'S EYE\"][:-1]\n",
    "summary = [page_html.findAll('div',{'class':\"eachStory\"})[i].findAll('p')[0].text for i in range(len(page_html.findAll('div',{'class':\"eachStory\"})))]\n",
    "each_article_url = [url+page_html.findAll('div',{'class':\"eachStory\"})[i].findAll('h3')[0].find_all('a',href = True)[0]['href'] for i in range(len(page_html.findAll('div',{'class':\"eachStory\"})))]\n",
    "each_article = []\n",
    "for i in range(len(each_article_url)):\n",
    "    try:\n",
    "        each_article.append(bs(requests.get(each_article_url[i]).content).find('div',{'class':'artText'}).text)\n",
    "    except:\n",
    "        each_article.append(np.nan)"
   ]
  },
  {
   "cell_type": "code",
   "execution_count": null,
   "metadata": {},
   "outputs": [],
   "source": []
  },
  {
   "cell_type": "markdown",
   "metadata": {},
   "source": [
    "### Creating a raw dataframe"
   ]
  },
  {
   "cell_type": "code",
   "execution_count": 188,
   "metadata": {},
   "outputs": [],
   "source": [
    "features = ['Headlines','Summary','Article']\n",
    "data = pd.DataFrame(dict(zip(features,[headlines,summary,each_article])))"
   ]
  },
  {
   "cell_type": "code",
   "execution_count": 191,
   "metadata": {},
   "outputs": [
    {
     "data": {
      "text/html": [
       "<div>\n",
       "<style scoped>\n",
       "    .dataframe tbody tr th:only-of-type {\n",
       "        vertical-align: middle;\n",
       "    }\n",
       "\n",
       "    .dataframe tbody tr th {\n",
       "        vertical-align: top;\n",
       "    }\n",
       "\n",
       "    .dataframe thead th {\n",
       "        text-align: right;\n",
       "    }\n",
       "</style>\n",
       "<table border=\"1\" class=\"dataframe\">\n",
       "  <thead>\n",
       "    <tr style=\"text-align: right;\">\n",
       "      <th></th>\n",
       "      <th>Headlines</th>\n",
       "      <th>Summary</th>\n",
       "      <th>Article</th>\n",
       "    </tr>\n",
       "  </thead>\n",
       "  <tbody>\n",
       "    <tr>\n",
       "      <th>0</th>\n",
       "      <td>Is ELSS really a good choice as a tax-saving i...</td>\n",
       "      <td>In recent years, it can be seen that many taxp...</td>\n",
       "      <td>There are a variety of options to choose from ...</td>\n",
       "    </tr>\n",
       "    <tr>\n",
       "      <th>1</th>\n",
       "      <td>Wall Street week ahead: Energy shares look for...</td>\n",
       "      <td>With a gain of over 80 per cent in that time, ...</td>\n",
       "      <td>By Lewis Krauskopf\\n\\n NEW YORK: Investors bet...</td>\n",
       "    </tr>\n",
       "    <tr>\n",
       "      <th>2</th>\n",
       "      <td>Citi turns defensive as valuations and interna...</td>\n",
       "      <td>Citi has a target of 14,800 on the Nifty by De...</td>\n",
       "      <td>Mumbai: Citigroup has tweaked its model portfo...</td>\n",
       "    </tr>\n",
       "    <tr>\n",
       "      <th>3</th>\n",
       "      <td>Finance Ministry writes to Sebi, 'requests' ag...</td>\n",
       "      <td>The ministry's objection is to the rule that r...</td>\n",
       "      <td>The finance ministry \"requested\" the Securitie...</td>\n",
       "    </tr>\n",
       "    <tr>\n",
       "      <th>4</th>\n",
       "      <td>Indices fall 1% on rising US bond yields, lock...</td>\n",
       "      <td>BEAR TURN Sensex slips 487.43 points, Nifty do...</td>\n",
       "      <td>Mumbai: Stock indices fell 1% on Friday, givin...</td>\n",
       "    </tr>\n",
       "    <tr>\n",
       "      <th>5</th>\n",
       "      <td>Govt finalises stake sale in Tata Communications</td>\n",
       "      <td>The government will sell its 16.12% stake in T...</td>\n",
       "      <td>The government will sell a 16.12 per cent stak...</td>\n",
       "    </tr>\n",
       "    <tr>\n",
       "      <th>6</th>\n",
       "      <td>Gautam Adani becomes top gainer this year so f...</td>\n",
       "      <td>The Indian who has added the maximum wealth am...</td>\n",
       "      <td>NaN</td>\n",
       "    </tr>\n",
       "    <tr>\n",
       "      <th>7</th>\n",
       "      <td>SBI Cards gets board's nod to raise up to Rs 2...</td>\n",
       "      <td>\"The board of directors of the company, at its...</td>\n",
       "      <td>NEW DELHI: SBI Cards and Payment Services Ltd ...</td>\n",
       "    </tr>\n",
       "    <tr>\n",
       "      <th>8</th>\n",
       "      <td>NHPC pays to govt Rs 891 cr as interim dividen...</td>\n",
       "      <td>NHPC Chairman and Managing Director A K Singh ...</td>\n",
       "      <td>State-owned hydropower giant NHPC on Friday sa...</td>\n",
       "    </tr>\n",
       "    <tr>\n",
       "      <th>9</th>\n",
       "      <td>US stocks close mixed as Dow notches fifth str...</td>\n",
       "      <td>The tech-heavy Nasdaq tumbled after rebounding...</td>\n",
       "      <td>NEW YORK, - The blue-chip Dow powered to its f...</td>\n",
       "    </tr>\n",
       "    <tr>\n",
       "      <th>10</th>\n",
       "      <td>Tata seeks CCI nod to buy majority stake in Bi...</td>\n",
       "      <td>In the filing with the Competition Commission ...</td>\n",
       "      <td>BENGALURU: Indian conglomerate Tata Sons plans...</td>\n",
       "    </tr>\n",
       "    <tr>\n",
       "      <th>11</th>\n",
       "      <td>India's February palm oil imports down 27% yr/...</td>\n",
       "      <td>India imported 394,495 tonnes of palm oil, dow...</td>\n",
       "      <td>India's palm oil imports fell 27% in February ...</td>\n",
       "    </tr>\n",
       "    <tr>\n",
       "      <th>12</th>\n",
       "      <td>China's Ant Group CEO leaves after failed IPO ...</td>\n",
       "      <td>Hu, who was named the chief executive of the A...</td>\n",
       "      <td>China's Ant Group Chief Executive Officer Simo...</td>\n",
       "    </tr>\n",
       "    <tr>\n",
       "      <th>13</th>\n",
       "      <td>NSE-BSE bulk deals: Government of Singapore pi...</td>\n",
       "      <td>At the same time, BNP Paribas Cardif, which he...</td>\n",
       "      <td>NEW DELHI: A number of investors exchanged rig...</td>\n",
       "    </tr>\n",
       "    <tr>\n",
       "      <th>14</th>\n",
       "      <td>Indian banks' loans rose 6.6% y/y in two weeks...</td>\n",
       "      <td>Non-food credit rose 713.55 billion rupees to ...</td>\n",
       "      <td>Indian banks' loans rose 6.6% in the two weeks...</td>\n",
       "    </tr>\n",
       "    <tr>\n",
       "      <th>15</th>\n",
       "      <td>Market movers: What gave boost to Tata Power; ...</td>\n",
       "      <td>Amid volatility in crude oil prices, Indian oi...</td>\n",
       "      <td>NEW DELHI: Sharp rise in Covid cases and parti...</td>\n",
       "    </tr>\n",
       "    <tr>\n",
       "      <th>16</th>\n",
       "      <td>Tech View: Nifty bulls run to save the 20-day ...</td>\n",
       "      <td>Nifty ended up forming a ‘Bearish Engulfing’ c...</td>\n",
       "      <td>NEW DELHI: Nifty50 breached the swing high of ...</td>\n",
       "    </tr>\n",
       "    <tr>\n",
       "      <th>17</th>\n",
       "      <td>F&amp;O: Nifty negates formation of higher lows of...</td>\n",
       "      <td>India VIX moved up 4.61% from 20.74 to 21.70 l...</td>\n",
       "      <td>Chandan Taparia \\nNifty opened with a gap up a...</td>\n",
       "    </tr>\n",
       "    <tr>\n",
       "      <th>18</th>\n",
       "      <td>IDBI Bank shares close nearly 10% higher after...</td>\n",
       "      <td>The stock started on a positive note, and jump...</td>\n",
       "      <td>NEW DELHI: Shares of IDBI Bank on Friday close...</td>\n",
       "    </tr>\n",
       "    <tr>\n",
       "      <th>19</th>\n",
       "      <td>AGC Networks to acquire stake in Z Services HQ...</td>\n",
       "      <td>Black Box Holdings Ltd, an indirect wholly-own...</td>\n",
       "      <td>NEW DELHI: AGC Networks on Friday said its sub...</td>\n",
       "    </tr>\n",
       "    <tr>\n",
       "      <th>20</th>\n",
       "      <td>BNP Paribas Cardif offloads 5% stake in SBI Life</td>\n",
       "      <td>In a disclosure to exchanges, SBI Life said th...</td>\n",
       "      <td>NEW DELHI: BNP Paribas Cardif on Friday sold o...</td>\n",
       "    </tr>\n",
       "    <tr>\n",
       "      <th>21</th>\n",
       "      <td>Investors dump bonds and gold, pile into equit...</td>\n",
       "      <td>BofA's weekly flows report showed investors pu...</td>\n",
       "      <td>LONDON: Investors piled into equities, while p...</td>\n",
       "    </tr>\n",
       "    <tr>\n",
       "      <th>22</th>\n",
       "      <td>FinMin to infuse Rs 14,500 crore in banks unde...</td>\n",
       "      <td>Indian Overseas Bank, Central Bank of India an...</td>\n",
       "      <td>The finance ministry is likely to infuse Rs 14...</td>\n",
       "    </tr>\n",
       "    <tr>\n",
       "      <th>23</th>\n",
       "      <td>Tesla in talks with Tata Power for EV charging...</td>\n",
       "      <td>Tata Motors Ltd, the carmaking unit of Tata So...</td>\n",
       "      <td>Tesla Inc is exploring an arrangement with Ind...</td>\n",
       "    </tr>\n",
       "    <tr>\n",
       "      <th>24</th>\n",
       "      <td>AMFI backs Sebi on perpetual bond issue</td>\n",
       "      <td>In a statement, the Association of Mutual Fund...</td>\n",
       "      <td>Industry body Amfi on Friday said it fully sup...</td>\n",
       "    </tr>\n",
       "    <tr>\n",
       "      <th>25</th>\n",
       "      <td>Sensex plunges over 1,000 points from day's hi...</td>\n",
       "      <td>Market Close: Sensex plunges 1,000 points from...</td>\n",
       "      <td>NaN</td>\n",
       "    </tr>\n",
       "    <tr>\n",
       "      <th>26</th>\n",
       "      <td>We have planned Rs 100-cr capex this year: Raj...</td>\n",
       "      <td>Decision on resumption of normal train service...</td>\n",
       "      <td>NaN</td>\n",
       "    </tr>\n",
       "    <tr>\n",
       "      <th>27</th>\n",
       "      <td>Digital shift to aid Manappuram Finance: VP Na...</td>\n",
       "      <td>VP Nandakumar, MD &amp; CEO Manappuram Finance tal...</td>\n",
       "      <td>NaN</td>\n",
       "    </tr>\n",
       "    <tr>\n",
       "      <th>28</th>\n",
       "      <td>HDFC MF sold 2% stake in SpiceJet via open mar...</td>\n",
       "      <td>​HDFC Trustee Company held 5.05% in SpiceJet a...</td>\n",
       "      <td>MUMBAI: HDFC Mutual Fund on Tuesday sold 2.01%...</td>\n",
       "    </tr>\n",
       "    <tr>\n",
       "      <th>29</th>\n",
       "      <td>CLSA expects Prestige Estates to get re-rated ...</td>\n",
       "      <td>​CLSA said this is estimated to result in tran...</td>\n",
       "      <td>MUMBAI: CLSA expects Prestige Estates Projects...</td>\n",
       "    </tr>\n",
       "    <tr>\n",
       "      <th>30</th>\n",
       "      <td>Ramesh Kalyanaraman of Kalyan Jewellers on how...</td>\n",
       "      <td>Kalyan Jewellers IPO of Rs 1175 crore to open ...</td>\n",
       "      <td>NaN</td>\n",
       "    </tr>\n",
       "    <tr>\n",
       "      <th>31</th>\n",
       "      <td>Investors lose Rs 1.4 lakh crore as financials...</td>\n",
       "      <td>The 30-share pack Sensex traded 537.09 points ...</td>\n",
       "      <td>NEW DELHI: Fresh lockdowns in parts of Maharas...</td>\n",
       "    </tr>\n",
       "    <tr>\n",
       "      <th>32</th>\n",
       "      <td>Gautam Adani beats Elon Musk, Jeff Bezos with ...</td>\n",
       "      <td>Adani has been rapidly expanding his conglomer...</td>\n",
       "      <td>Indian tycoon Gautam Adani has added more bill...</td>\n",
       "    </tr>\n",
       "    <tr>\n",
       "      <th>33</th>\n",
       "      <td>ICICI Prudential Life Insurance Company Ltd. s...</td>\n",
       "      <td>The Relative Strength Index of the stock stood...</td>\n",
       "      <td>Shares of ICICI Prudential Life Insurance Comp...</td>\n",
       "    </tr>\n",
       "    <tr>\n",
       "      <th>34</th>\n",
       "      <td>Berger Paints (India) Ltd. shares  decline  1....</td>\n",
       "      <td>A total of 15,799 shares changed hands on the ...</td>\n",
       "      <td>Shares of the Berger Paints (India) Ltd. trade...</td>\n",
       "    </tr>\n",
       "    <tr>\n",
       "      <th>35</th>\n",
       "      <td>ACC Ltd. shares  down  1.46% as Nifty  falls</td>\n",
       "      <td>The stock quoted a 52-week high price of Rs 18...</td>\n",
       "      <td>Shares of ACC Ltd. rose 1.46 per cent to Rs 18...</td>\n",
       "    </tr>\n",
       "    <tr>\n",
       "      <th>36</th>\n",
       "      <td>Marico Ltd. shares  fall  0.79 per cent in Fri...</td>\n",
       "      <td>The Relative Strength Index of the stock stood...</td>\n",
       "      <td>Shares of Marico Ltd. fell 0.79 per cent to Rs...</td>\n",
       "    </tr>\n",
       "    <tr>\n",
       "      <th>37</th>\n",
       "      <td>Biocon Ltd. shares  down  0.27% as Nifty  drops</td>\n",
       "      <td>A total of 189,211 shares changed hands on the...</td>\n",
       "      <td>NEW DELHI: Shares of Biocon Ltd. traded 0.27 p...</td>\n",
       "    </tr>\n",
       "    <tr>\n",
       "      <th>38</th>\n",
       "      <td>Vedanta Ltd. share price  down  3.09 per cent</td>\n",
       "      <td>A total of 479,685 shares changed hands on the...</td>\n",
       "      <td>Shares of Vedanta Ltd. traded 3.09 per cent up...</td>\n",
       "    </tr>\n",
       "    <tr>\n",
       "      <th>39</th>\n",
       "      <td>Stock market update: SmallCap stocks mixed; Ap...</td>\n",
       "      <td>The S&amp;P BSE SmallCap index was trading 0.27 pe...</td>\n",
       "      <td>NEW DELHI: SmallCap stocks were trading on a m...</td>\n",
       "    </tr>\n",
       "    <tr>\n",
       "      <th>40</th>\n",
       "      <td>TVS Motor Company Ltd. shares  falls  1.38% as...</td>\n",
       "      <td>A total of 52,739 shares changed hands on the ...</td>\n",
       "      <td>Shares of TVS Motor Company Ltd. slipped 1.38 ...</td>\n",
       "    </tr>\n",
       "    <tr>\n",
       "      <th>41</th>\n",
       "      <td>Stock market update: BSE MidCap index trades f...</td>\n",
       "      <td>The index was trading 0.18 per cent up at 2070...</td>\n",
       "      <td>NEW DELHI: S&amp;P BSE MidCap index was trading fl...</td>\n",
       "    </tr>\n",
       "    <tr>\n",
       "      <th>42</th>\n",
       "      <td>Ambuja Cements Ltd. shares  fall  0.21 per cen...</td>\n",
       "      <td>The Relative Strength Index of the stock stood...</td>\n",
       "      <td>Shares of Ambuja Cements Ltd. fell 0.21 per ce...</td>\n",
       "    </tr>\n",
       "    <tr>\n",
       "      <th>43</th>\n",
       "      <td>Piramal Enterprises Ltd. shares  fall  1.98% a...</td>\n",
       "      <td>The stock quoted a 52-week high price of Rs 20...</td>\n",
       "      <td>Shares of Piramal Enterprises Ltd. traded 1.98...</td>\n",
       "    </tr>\n",
       "    <tr>\n",
       "      <th>44</th>\n",
       "      <td>Citigroup tweaks model portfolio to be more de...</td>\n",
       "      <td>​Citi has a target of 14,800 on the Nifty by D...</td>\n",
       "      <td>MUMBAI: Citigroup Global Markets has tweaked i...</td>\n",
       "    </tr>\n",
       "    <tr>\n",
       "      <th>45</th>\n",
       "      <td>Adani Green Energy Ltd. shares  drop  0.57% as...</td>\n",
       "      <td>The stock quoted a 52-week high of Rs 1220.0 a...</td>\n",
       "      <td>Shares of Adani Green Energy Ltd. traded 0.57 ...</td>\n",
       "    </tr>\n",
       "    <tr>\n",
       "      <th>46</th>\n",
       "      <td>Finance ministry asks Sebi to withdraw new ord...</td>\n",
       "      <td>In a big development, finance ministry has ove...</td>\n",
       "      <td>NaN</td>\n",
       "    </tr>\n",
       "    <tr>\n",
       "      <th>47</th>\n",
       "      <td>PI Industries Ltd.  decline  0.67% as Sensex  ...</td>\n",
       "      <td>The stock traded at a P/E multiple of 51.61, w...</td>\n",
       "      <td>Shares of PI Industries Ltd. traded at Rs 2275...</td>\n",
       "    </tr>\n",
       "  </tbody>\n",
       "</table>\n",
       "</div>"
      ],
      "text/plain": [
       "                                            Headlines  \\\n",
       "0   Is ELSS really a good choice as a tax-saving i...   \n",
       "1   Wall Street week ahead: Energy shares look for...   \n",
       "2   Citi turns defensive as valuations and interna...   \n",
       "3   Finance Ministry writes to Sebi, 'requests' ag...   \n",
       "4   Indices fall 1% on rising US bond yields, lock...   \n",
       "5    Govt finalises stake sale in Tata Communications   \n",
       "6   Gautam Adani becomes top gainer this year so f...   \n",
       "7   SBI Cards gets board's nod to raise up to Rs 2...   \n",
       "8   NHPC pays to govt Rs 891 cr as interim dividen...   \n",
       "9   US stocks close mixed as Dow notches fifth str...   \n",
       "10  Tata seeks CCI nod to buy majority stake in Bi...   \n",
       "11  India's February palm oil imports down 27% yr/...   \n",
       "12  China's Ant Group CEO leaves after failed IPO ...   \n",
       "13  NSE-BSE bulk deals: Government of Singapore pi...   \n",
       "14  Indian banks' loans rose 6.6% y/y in two weeks...   \n",
       "15  Market movers: What gave boost to Tata Power; ...   \n",
       "16  Tech View: Nifty bulls run to save the 20-day ...   \n",
       "17  F&O: Nifty negates formation of higher lows of...   \n",
       "18  IDBI Bank shares close nearly 10% higher after...   \n",
       "19  AGC Networks to acquire stake in Z Services HQ...   \n",
       "20   BNP Paribas Cardif offloads 5% stake in SBI Life   \n",
       "21  Investors dump bonds and gold, pile into equit...   \n",
       "22  FinMin to infuse Rs 14,500 crore in banks unde...   \n",
       "23  Tesla in talks with Tata Power for EV charging...   \n",
       "24            AMFI backs Sebi on perpetual bond issue   \n",
       "25  Sensex plunges over 1,000 points from day's hi...   \n",
       "26  We have planned Rs 100-cr capex this year: Raj...   \n",
       "27  Digital shift to aid Manappuram Finance: VP Na...   \n",
       "28  HDFC MF sold 2% stake in SpiceJet via open mar...   \n",
       "29  CLSA expects Prestige Estates to get re-rated ...   \n",
       "30  Ramesh Kalyanaraman of Kalyan Jewellers on how...   \n",
       "31  Investors lose Rs 1.4 lakh crore as financials...   \n",
       "32  Gautam Adani beats Elon Musk, Jeff Bezos with ...   \n",
       "33  ICICI Prudential Life Insurance Company Ltd. s...   \n",
       "34  Berger Paints (India) Ltd. shares  decline  1....   \n",
       "35      ACC Ltd. shares  down  1.46% as Nifty  falls    \n",
       "36  Marico Ltd. shares  fall  0.79 per cent in Fri...   \n",
       "37   Biocon Ltd. shares  down  0.27% as Nifty  drops    \n",
       "38      Vedanta Ltd. share price  down  3.09 per cent   \n",
       "39  Stock market update: SmallCap stocks mixed; Ap...   \n",
       "40  TVS Motor Company Ltd. shares  falls  1.38% as...   \n",
       "41  Stock market update: BSE MidCap index trades f...   \n",
       "42  Ambuja Cements Ltd. shares  fall  0.21 per cen...   \n",
       "43  Piramal Enterprises Ltd. shares  fall  1.98% a...   \n",
       "44  Citigroup tweaks model portfolio to be more de...   \n",
       "45  Adani Green Energy Ltd. shares  drop  0.57% as...   \n",
       "46  Finance ministry asks Sebi to withdraw new ord...   \n",
       "47  PI Industries Ltd.  decline  0.67% as Sensex  ...   \n",
       "\n",
       "                                              Summary  \\\n",
       "0   In recent years, it can be seen that many taxp...   \n",
       "1   With a gain of over 80 per cent in that time, ...   \n",
       "2   Citi has a target of 14,800 on the Nifty by De...   \n",
       "3   The ministry's objection is to the rule that r...   \n",
       "4   BEAR TURN Sensex slips 487.43 points, Nifty do...   \n",
       "5   The government will sell its 16.12% stake in T...   \n",
       "6   The Indian who has added the maximum wealth am...   \n",
       "7   \"The board of directors of the company, at its...   \n",
       "8   NHPC Chairman and Managing Director A K Singh ...   \n",
       "9   The tech-heavy Nasdaq tumbled after rebounding...   \n",
       "10  In the filing with the Competition Commission ...   \n",
       "11  India imported 394,495 tonnes of palm oil, dow...   \n",
       "12  Hu, who was named the chief executive of the A...   \n",
       "13  At the same time, BNP Paribas Cardif, which he...   \n",
       "14  Non-food credit rose 713.55 billion rupees to ...   \n",
       "15  Amid volatility in crude oil prices, Indian oi...   \n",
       "16  Nifty ended up forming a ‘Bearish Engulfing’ c...   \n",
       "17  India VIX moved up 4.61% from 20.74 to 21.70 l...   \n",
       "18  The stock started on a positive note, and jump...   \n",
       "19  Black Box Holdings Ltd, an indirect wholly-own...   \n",
       "20  In a disclosure to exchanges, SBI Life said th...   \n",
       "21  BofA's weekly flows report showed investors pu...   \n",
       "22  Indian Overseas Bank, Central Bank of India an...   \n",
       "23  Tata Motors Ltd, the carmaking unit of Tata So...   \n",
       "24  In a statement, the Association of Mutual Fund...   \n",
       "25  Market Close: Sensex plunges 1,000 points from...   \n",
       "26  Decision on resumption of normal train service...   \n",
       "27  VP Nandakumar, MD & CEO Manappuram Finance tal...   \n",
       "28  ​HDFC Trustee Company held 5.05% in SpiceJet a...   \n",
       "29  ​CLSA said this is estimated to result in tran...   \n",
       "30  Kalyan Jewellers IPO of Rs 1175 crore to open ...   \n",
       "31  The 30-share pack Sensex traded 537.09 points ...   \n",
       "32  Adani has been rapidly expanding his conglomer...   \n",
       "33  The Relative Strength Index of the stock stood...   \n",
       "34  A total of 15,799 shares changed hands on the ...   \n",
       "35  The stock quoted a 52-week high price of Rs 18...   \n",
       "36  The Relative Strength Index of the stock stood...   \n",
       "37  A total of 189,211 shares changed hands on the...   \n",
       "38  A total of 479,685 shares changed hands on the...   \n",
       "39  The S&P BSE SmallCap index was trading 0.27 pe...   \n",
       "40  A total of 52,739 shares changed hands on the ...   \n",
       "41  The index was trading 0.18 per cent up at 2070...   \n",
       "42  The Relative Strength Index of the stock stood...   \n",
       "43  The stock quoted a 52-week high price of Rs 20...   \n",
       "44  ​Citi has a target of 14,800 on the Nifty by D...   \n",
       "45  The stock quoted a 52-week high of Rs 1220.0 a...   \n",
       "46  In a big development, finance ministry has ove...   \n",
       "47  The stock traded at a P/E multiple of 51.61, w...   \n",
       "\n",
       "                                              Article  \n",
       "0   There are a variety of options to choose from ...  \n",
       "1   By Lewis Krauskopf\\n\\n NEW YORK: Investors bet...  \n",
       "2   Mumbai: Citigroup has tweaked its model portfo...  \n",
       "3   The finance ministry \"requested\" the Securitie...  \n",
       "4   Mumbai: Stock indices fell 1% on Friday, givin...  \n",
       "5   The government will sell a 16.12 per cent stak...  \n",
       "6                                                 NaN  \n",
       "7   NEW DELHI: SBI Cards and Payment Services Ltd ...  \n",
       "8   State-owned hydropower giant NHPC on Friday sa...  \n",
       "9   NEW YORK, - The blue-chip Dow powered to its f...  \n",
       "10  BENGALURU: Indian conglomerate Tata Sons plans...  \n",
       "11  India's palm oil imports fell 27% in February ...  \n",
       "12  China's Ant Group Chief Executive Officer Simo...  \n",
       "13  NEW DELHI: A number of investors exchanged rig...  \n",
       "14  Indian banks' loans rose 6.6% in the two weeks...  \n",
       "15  NEW DELHI: Sharp rise in Covid cases and parti...  \n",
       "16  NEW DELHI: Nifty50 breached the swing high of ...  \n",
       "17  Chandan Taparia \\nNifty opened with a gap up a...  \n",
       "18  NEW DELHI: Shares of IDBI Bank on Friday close...  \n",
       "19  NEW DELHI: AGC Networks on Friday said its sub...  \n",
       "20  NEW DELHI: BNP Paribas Cardif on Friday sold o...  \n",
       "21  LONDON: Investors piled into equities, while p...  \n",
       "22  The finance ministry is likely to infuse Rs 14...  \n",
       "23  Tesla Inc is exploring an arrangement with Ind...  \n",
       "24  Industry body Amfi on Friday said it fully sup...  \n",
       "25                                                NaN  \n",
       "26                                                NaN  \n",
       "27                                                NaN  \n",
       "28  MUMBAI: HDFC Mutual Fund on Tuesday sold 2.01%...  \n",
       "29  MUMBAI: CLSA expects Prestige Estates Projects...  \n",
       "30                                                NaN  \n",
       "31  NEW DELHI: Fresh lockdowns in parts of Maharas...  \n",
       "32  Indian tycoon Gautam Adani has added more bill...  \n",
       "33  Shares of ICICI Prudential Life Insurance Comp...  \n",
       "34  Shares of the Berger Paints (India) Ltd. trade...  \n",
       "35  Shares of ACC Ltd. rose 1.46 per cent to Rs 18...  \n",
       "36  Shares of Marico Ltd. fell 0.79 per cent to Rs...  \n",
       "37  NEW DELHI: Shares of Biocon Ltd. traded 0.27 p...  \n",
       "38  Shares of Vedanta Ltd. traded 3.09 per cent up...  \n",
       "39  NEW DELHI: SmallCap stocks were trading on a m...  \n",
       "40  Shares of TVS Motor Company Ltd. slipped 1.38 ...  \n",
       "41  NEW DELHI: S&P BSE MidCap index was trading fl...  \n",
       "42  Shares of Ambuja Cements Ltd. fell 0.21 per ce...  \n",
       "43  Shares of Piramal Enterprises Ltd. traded 1.98...  \n",
       "44  MUMBAI: Citigroup Global Markets has tweaked i...  \n",
       "45  Shares of Adani Green Energy Ltd. traded 0.57 ...  \n",
       "46                                                NaN  \n",
       "47  Shares of PI Industries Ltd. traded at Rs 2275...  "
      ]
     },
     "execution_count": 191,
     "metadata": {},
     "output_type": "execute_result"
    }
   ],
   "source": [
    "data #If there is NAN in the article we will "
   ]
  },
  {
   "cell_type": "markdown",
   "metadata": {},
   "source": [
    "# Text preprocessing using nltk"
   ]
  },
  {
   "cell_type": "code",
   "execution_count": 46,
   "metadata": {},
   "outputs": [],
   "source": [
    "raw_data = data.copy()"
   ]
  },
  {
   "cell_type": "code",
   "execution_count": 47,
   "metadata": {},
   "outputs": [],
   "source": [
    "import nltk\n",
    "import string\n",
    "import re\n",
    "import inflect"
   ]
  },
  {
   "cell_type": "code",
   "execution_count": 48,
   "metadata": {},
   "outputs": [
    {
     "name": "stderr",
     "output_type": "stream",
     "text": [
      "[nltk_data] Downloading package stopwords to\n",
      "[nltk_data]     C:\\Users\\tejas\\AppData\\Roaming\\nltk_data...\n",
      "[nltk_data]   Package stopwords is already up-to-date!\n",
      "[nltk_data] Downloading package punkt to\n",
      "[nltk_data]     C:\\Users\\tejas\\AppData\\Roaming\\nltk_data...\n",
      "[nltk_data]   Package punkt is already up-to-date!\n"
     ]
    },
    {
     "data": {
      "text/plain": [
       "True"
      ]
     },
     "execution_count": 48,
     "metadata": {},
     "output_type": "execute_result"
    }
   ],
   "source": [
    "from nltk.corpus import stopwords\n",
    "from nltk.tokenize import word_tokenize\n",
    "nltk.download('stopwords')\n",
    "nltk.download('punkt')"
   ]
  },
  {
   "cell_type": "code",
   "execution_count": 49,
   "metadata": {},
   "outputs": [],
   "source": [
    "def lowercase(x):\n",
    "    return x.lower()"
   ]
  },
  {
   "cell_type": "code",
   "execution_count": 50,
   "metadata": {},
   "outputs": [],
   "source": [
    "def replace_percent(x):\n",
    "    string = []\n",
    "    for i in x:\n",
    "        if i=='%':\n",
    "            string.append(' percent')\n",
    "        else:\n",
    "            string.append(i)\n",
    "        temp_str = ''.join(string)\n",
    "    return temp_str"
   ]
  },
  {
   "cell_type": "code",
   "execution_count": 51,
   "metadata": {},
   "outputs": [],
   "source": [
    "def remove_stop_words(x):\n",
    "    stop_words = set(stopwords.words('english'))\n",
    "    word_tokens = word_tokenize(x)\n",
    "    filtered_text = [word.strip() for word in word_tokens if word not in stop_words]\n",
    "    filtered_text = [word.strip() for word in filtered_text if word != ' ']\n",
    "    return filtered_text"
   ]
  },
  {
   "cell_type": "code",
   "execution_count": 52,
   "metadata": {},
   "outputs": [],
   "source": [
    "def remove_punctuations(x):\n",
    "    translator = str.maketrans('','',string.punctuation)\n",
    "    return x.translate(translator)"
   ]
  },
  {
   "cell_type": "code",
   "execution_count": 53,
   "metadata": {},
   "outputs": [],
   "source": [
    "def remove_numbers(x):\n",
    "    temp = x\n",
    "    new_str = []\n",
    "    for word in temp:\n",
    "        if word.isdigit():\n",
    "            new_str.append('')\n",
    "        else:\n",
    "            new_str.append(word)\n",
    "    return new_str"
   ]
  },
  {
   "cell_type": "code",
   "execution_count": null,
   "metadata": {},
   "outputs": [],
   "source": []
  },
  {
   "cell_type": "code",
   "execution_count": 54,
   "metadata": {},
   "outputs": [],
   "source": [
    "raw_data['Headlines'] = raw_data['Headlines'].apply(lowercase)\n",
    "raw_data['Headlines'] = raw_data['Headlines'].apply(replace_percent)\n",
    "raw_data['Headlines'] = raw_data['Headlines'].apply(remove_punctuations)\n",
    "raw_data['Headlines'] = raw_data['Headlines'].apply(remove_stop_words)\n",
    "raw_data['Headlines'] = raw_data['Headlines'].apply(remove_numbers)\n",
    "\n",
    "\n",
    "raw_data['Summary'] = raw_data['Summary'].apply(lowercase)\n",
    "raw_data['Summary'] = raw_data['Summary'].apply(replace_percent)\n",
    "raw_data['Summary'] = raw_data['Summary'].apply(remove_punctuations)\n",
    "raw_data['Summary'] = raw_data['Summary'].apply(remove_stop_words)\n",
    "raw_data['Summary'] = raw_data['Summary'].apply(remove_numbers)"
   ]
  },
  {
   "cell_type": "code",
   "execution_count": 55,
   "metadata": {},
   "outputs": [],
   "source": [
    "#Now we will apply lemmatization to get similar words and better generalize.\n",
    "#For lemmatization we need to have our sentences in tokenized form."
   ]
  },
  {
   "cell_type": "markdown",
   "metadata": {},
   "source": [
    "#### Lemmatization"
   ]
  },
  {
   "cell_type": "code",
   "execution_count": 56,
   "metadata": {},
   "outputs": [
    {
     "name": "stderr",
     "output_type": "stream",
     "text": [
      "[nltk_data] Downloading package wordnet to\n",
      "[nltk_data]     C:\\Users\\tejas\\AppData\\Roaming\\nltk_data...\n",
      "[nltk_data]   Package wordnet is already up-to-date!\n"
     ]
    },
    {
     "data": {
      "text/plain": [
       "True"
      ]
     },
     "execution_count": 56,
     "metadata": {},
     "output_type": "execute_result"
    }
   ],
   "source": [
    "from nltk.stem import wordnet\n",
    "lemma = wordnet.WordNetLemmatizer()\n",
    "nltk.download('wordnet')"
   ]
  },
  {
   "cell_type": "code",
   "execution_count": 57,
   "metadata": {},
   "outputs": [],
   "source": [
    "def lemmatize_word(x):\n",
    "    lemmas = [lemma.lemmatize(word,pos = 'v') for word in x]\n",
    "    return lemmas"
   ]
  },
  {
   "cell_type": "code",
   "execution_count": 58,
   "metadata": {},
   "outputs": [],
   "source": [
    "raw_data['Headlines'] = raw_data['Headlines'].apply(lemmatize_word)\n",
    "raw_data['Summary'] = raw_data['Summary'].apply(lemmatize_word)"
   ]
  },
  {
   "cell_type": "code",
   "execution_count": 59,
   "metadata": {},
   "outputs": [
    {
     "name": "stderr",
     "output_type": "stream",
     "text": [
      "[nltk_data] Downloading package punkt to\n",
      "[nltk_data]     C:\\Users\\tejas\\AppData\\Roaming\\nltk_data...\n",
      "[nltk_data]   Package punkt is already up-to-date!\n"
     ]
    },
    {
     "data": {
      "text/plain": [
       "True"
      ]
     },
     "execution_count": 59,
     "metadata": {},
     "output_type": "execute_result"
    }
   ],
   "source": [
    "import nltk\n",
    "nltk.download('punkt')"
   ]
  },
  {
   "cell_type": "code",
   "execution_count": 60,
   "metadata": {},
   "outputs": [],
   "source": [
    "def drop_zero_len_string(x):\n",
    "    s = []\n",
    "    for i in x:\n",
    "        if i=='':\n",
    "            pass\n",
    "        else:\n",
    "            s.append(i)\n",
    "    return s"
   ]
  },
  {
   "cell_type": "code",
   "execution_count": 61,
   "metadata": {},
   "outputs": [],
   "source": [
    "raw_data['Summary'] = raw_data['Summary'].apply(drop_zero_len_string)\n",
    "raw_data['Headlines'] = raw_data['Headlines'].apply(drop_zero_len_string)"
   ]
  },
  {
   "cell_type": "markdown",
   "metadata": {},
   "source": [
    "# Parts of Speech (POS) Tagging"
   ]
  },
  {
   "cell_type": "code",
   "execution_count": 62,
   "metadata": {},
   "outputs": [
    {
     "name": "stderr",
     "output_type": "stream",
     "text": [
      "[nltk_data] Downloading package averaged_perceptron_tagger to\n",
      "[nltk_data]     C:\\Users\\tejas\\AppData\\Roaming\\nltk_data...\n",
      "[nltk_data]   Package averaged_perceptron_tagger is already up-to-\n",
      "[nltk_data]       date!\n"
     ]
    }
   ],
   "source": [
    "from nltk import pos_tag\n",
    "nltk.download('averaged_perceptron_tagger')\n",
    "def pos_tagg(text): \n",
    "    return pos_tag(text)"
   ]
  },
  {
   "cell_type": "code",
   "execution_count": 63,
   "metadata": {},
   "outputs": [],
   "source": [
    "raw_data['Headlines'] = raw_data['Headlines'].apply(pos_tagg)\n",
    "raw_data['Summary'] = raw_data['Summary'].apply(pos_tagg)"
   ]
  },
  {
   "cell_type": "code",
   "execution_count": 64,
   "metadata": {},
   "outputs": [
    {
     "data": {
      "text/html": [
       "<div>\n",
       "<style scoped>\n",
       "    .dataframe tbody tr th:only-of-type {\n",
       "        vertical-align: middle;\n",
       "    }\n",
       "\n",
       "    .dataframe tbody tr th {\n",
       "        vertical-align: top;\n",
       "    }\n",
       "\n",
       "    .dataframe thead th {\n",
       "        text-align: right;\n",
       "    }\n",
       "</style>\n",
       "<table border=\"1\" class=\"dataframe\">\n",
       "  <thead>\n",
       "    <tr style=\"text-align: right;\">\n",
       "      <th></th>\n",
       "      <th>Headlines</th>\n",
       "      <th>Summary</th>\n",
       "    </tr>\n",
       "  </thead>\n",
       "  <tbody>\n",
       "    <tr>\n",
       "      <th>0</th>\n",
       "      <td>[(idbi, NN), (bank, NN), (share, NN), (close, ...</td>\n",
       "      <td>[(stock, NN), (start, NN), (positive, JJ), (no...</td>\n",
       "    </tr>\n",
       "    <tr>\n",
       "      <th>1</th>\n",
       "      <td>[(agc, NN), (network, NN), (acquire, VB), (sta...</td>\n",
       "      <td>[(black, JJ), (box, NN), (hold, VBP), (ltd, JJ...</td>\n",
       "    </tr>\n",
       "    <tr>\n",
       "      <th>2</th>\n",
       "      <td>[(bnp, NN), (paribas, NN), (cardif, NN), (offl...</td>\n",
       "      <td>[(disclosure, NN), (exchange, NN), (sbi, JJ), ...</td>\n",
       "    </tr>\n",
       "    <tr>\n",
       "      <th>3</th>\n",
       "      <td>[(investors, NNS), (dump, VBP), (bond, NN), (g...</td>\n",
       "      <td>[(bofas, JJ), (weekly, JJ), (flow, NN), (repor...</td>\n",
       "    </tr>\n",
       "    <tr>\n",
       "      <th>4</th>\n",
       "      <td>[(finmin, NN), (infuse, NN), (rs, NN), (crore,...</td>\n",
       "      <td>[(indian, JJ), (overseas, JJ), (bank, NN), (ce...</td>\n",
       "    </tr>\n",
       "  </tbody>\n",
       "</table>\n",
       "</div>"
      ],
      "text/plain": [
       "                                           Headlines  \\\n",
       "0  [(idbi, NN), (bank, NN), (share, NN), (close, ...   \n",
       "1  [(agc, NN), (network, NN), (acquire, VB), (sta...   \n",
       "2  [(bnp, NN), (paribas, NN), (cardif, NN), (offl...   \n",
       "3  [(investors, NNS), (dump, VBP), (bond, NN), (g...   \n",
       "4  [(finmin, NN), (infuse, NN), (rs, NN), (crore,...   \n",
       "\n",
       "                                             Summary  \n",
       "0  [(stock, NN), (start, NN), (positive, JJ), (no...  \n",
       "1  [(black, JJ), (box, NN), (hold, VBP), (ltd, JJ...  \n",
       "2  [(disclosure, NN), (exchange, NN), (sbi, JJ), ...  \n",
       "3  [(bofas, JJ), (weekly, JJ), (flow, NN), (repor...  \n",
       "4  [(indian, JJ), (overseas, JJ), (bank, NN), (ce...  "
      ]
     },
     "execution_count": 64,
     "metadata": {},
     "output_type": "execute_result"
    }
   ],
   "source": [
    "raw_data.head()"
   ]
  },
  {
   "cell_type": "code",
   "execution_count": 65,
   "metadata": {},
   "outputs": [
    {
     "name": "stdout",
     "output_type": "stream",
     "text": [
      "VBP: verb, present tense, not 3rd person singular\n",
      "    predominate wrap resort sue twist spill cure lengthen brush terminate\n",
      "    appear tend stray glisten obtain comprise detest tease attract\n",
      "    emphasize mold postpone sever return wag ...\n"
     ]
    },
    {
     "name": "stderr",
     "output_type": "stream",
     "text": [
      "[nltk_data] Downloading package tagsets to\n",
      "[nltk_data]     C:\\Users\\tejas\\AppData\\Roaming\\nltk_data...\n",
      "[nltk_data]   Package tagsets is already up-to-date!\n"
     ]
    }
   ],
   "source": [
    "# downloading the tagset  \n",
    "nltk.download('tagsets') \n",
    "  \n",
    "# extract information about the tag \n",
    "nltk.help.upenn_tagset('VBP')"
   ]
  },
  {
   "cell_type": "code",
   "execution_count": 66,
   "metadata": {},
   "outputs": [],
   "source": [
    "def chunking(x):\n",
    "    grammar = \"NP: {<DT>?<JJ>*<NN>}\"\n",
    "    chunkParser = nltk.RegexpParser(grammar) \n",
    "    tree = chunkParser.parse(x)\n",
    "    return tree"
   ]
  },
  {
   "cell_type": "code",
   "execution_count": 67,
   "metadata": {},
   "outputs": [],
   "source": [
    "raw_data['Headlines'] = raw_data['Headlines'].apply(chunking)\n",
    "raw_data['Summary'] = raw_data['Summary'].apply(chunking)"
   ]
  },
  {
   "cell_type": "code",
   "execution_count": 68,
   "metadata": {},
   "outputs": [
    {
     "data": {
      "text/plain": [
       "array([Tree('S', [Tree('NP', [('idbi', 'NN')]), Tree('NP', [('bank', 'NN')]), Tree('NP', [('share', 'NN')]), ('close', 'JJ'), ('nearly', 'RB'), Tree('NP', [('percent', 'NN')]), ('higher', 'JJR'), Tree('NP', [('removal', 'NN')]), ('rbis', 'VBP'), Tree('NP', [('pca', 'NN')]), Tree('NP', [('framework', 'NN')])])],\n",
       "      dtype=object)"
      ]
     },
     "execution_count": 68,
     "metadata": {},
     "output_type": "execute_result"
    }
   ],
   "source": [
    "raw_data.iloc[[0],[0]].values[0]"
   ]
  },
  {
   "cell_type": "markdown",
   "metadata": {},
   "source": [
    "# Name Entity recognition\n",
    "\n",
    "* Part of NLTK ne_chunk is used to recognize whether the text is a name,person,place,organization etc. Does not work as well on indian stocks data."
   ]
  },
  {
   "cell_type": "code",
   "execution_count": 81,
   "metadata": {},
   "outputs": [],
   "source": [
    "# #Importing tokenization and chunk\n",
    "# from nltk.tokenize import word_tokenize \n",
    "# from nltk import pos_tag, ne_chunk \n",
    "# nltk.download('maxent_ne_chunker')\n",
    "# nltk.download('words')\n",
    "  \n",
    "# def ner(text): \n",
    "#     # tokenize the text \n",
    "#     word_tokens = word_tokenize(text) \n",
    "  \n",
    "#     # pos tagging of words \n",
    "#     word_pos = pos_tag(word_tokens) \n",
    "  \n",
    "#     # tree of word entities \n",
    "#     print(ne_chunk(word_pos)) \n",
    "# data['Headlines'].apply(ner)"
   ]
  },
  {
   "cell_type": "markdown",
   "metadata": {},
   "source": [
    "### Visualize frequency of words for a headline. (Bag of words)\n",
    "\n",
    "* Calculating the frequency of occurence of each word.\n",
    "* Replacing the word with its frequency for each headline.\n",
    "* This is a basic explanation of the bag of words algorithm.\n",
    "* However it is not the best way to preserve contextual data."
   ]
  },
  {
   "cell_type": "code",
   "execution_count": 82,
   "metadata": {},
   "outputs": [],
   "source": [
    "from nltk import FreqDist\n",
    "def frequency(x):\n",
    "    text_split = word_tokenize(x)\n",
    "    freqDist = FreqDist(text_split)\n",
    "    words = list(freqDist.keys())\n",
    "    return freqDist"
   ]
  },
  {
   "cell_type": "code",
   "execution_count": 83,
   "metadata": {
    "scrolled": true
   },
   "outputs": [
    {
     "data": {
      "image/png": "[encoded data removed]",
      "text/plain": [
       "<Figure size 432x288 with 1 Axes>"
      ]
     },
     "metadata": {
      "needs_background": "light"
     },
     "output_type": "display_data"
    }
   ],
   "source": [
    "data['Summary'].apply(frequency).iloc[5].plot()\n",
    "plt.show()"
   ]
  },
  {
   "cell_type": "markdown",
   "metadata": {},
   "source": [
    "# TF-IDF (Term Frequency - Inverse Document Frequency)\n",
    "\n",
    "* **Term Frequency** replaces words with their probability of occurence within a sentence. For instance out of 10 words it \"to\" appeared 2 times, its probability would be 2/10 or 0.2.\n",
    "* **Inverse Document Frequency** would determine the actual importance of a word. \n",
    "\n",
    "        IDF = log_e(total number of documents/number of documents with the term in it)\n",
    "##### TF-IDF Formula: **TF X IDF** (For each word)"
   ]
  },
  {
   "cell_type": "code",
   "execution_count": 184,
   "metadata": {},
   "outputs": [],
   "source": [
    "def combine_all_rows(col_name):\n",
    "    summary = ''\n",
    "    for i in range(len(data)):\n",
    "        summary+=data[col_name].iloc[i]\n",
    "        summary+=' '\n",
    "    return summary"
   ]
  },
  {
   "cell_type": "code",
   "execution_count": 203,
   "metadata": {},
   "outputs": [],
   "source": [
    "summary = combine_all_rows('Summary')\n",
    "headlines = combine_all_rows('Headlines')"
   ]
  },
  {
   "cell_type": "code",
   "execution_count": 204,
   "metadata": {},
   "outputs": [],
   "source": [
    "#For each word calculate frequency of occurence in each sentence and frequency of occurence in each paragraph.\n",
    "#I will be using the frequency function created above to get word count of each word."
   ]
  },
  {
   "cell_type": "code",
   "execution_count": 205,
   "metadata": {},
   "outputs": [],
   "source": [
    "rdata = data.copy()"
   ]
  },
  {
   "cell_type": "code",
   "execution_count": 206,
   "metadata": {},
   "outputs": [],
   "source": [
    "rdata['Headlines'] = rdata['Headlines'].apply(lowercase)\n",
    "rdata['Headlines'] = rdata['Headlines'].apply(replace_percent)\n",
    "rdata['Headlines'] = rdata['Headlines'].apply(remove_punctuations)\n",
    "rdata['Headlines'] = rdata['Headlines'].apply(remove_stop_words)\n",
    "rdata['Headlines'] = rdata['Headlines'].apply(remove_numbers)\n",
    "rdata['Headlines'] = rdata['Headlines'].apply(drop_zero_len_string)\n",
    "\n",
    "rdata['Summary'] = rdata['Summary'].apply(lowercase)\n",
    "rdata['Summary'] = rdata['Summary'].apply(replace_percent)\n",
    "rdata['Summary'] = rdata['Summary'].apply(remove_punctuations)\n",
    "rdata['Summary'] = rdata['Summary'].apply(remove_stop_words)\n",
    "rdata['Summary'] = rdata['Summary'].apply(remove_numbers)\n",
    "rdata['Summary'] = rdata['Summary'].apply(drop_zero_len_string)"
   ]
  },
  {
   "cell_type": "code",
   "execution_count": 207,
   "metadata": {},
   "outputs": [],
   "source": [
    "headlines = lowercase(headlines)\n",
    "headlines = replace_percent(headlines)\n",
    "headlines = remove_punctuations(headlines)\n",
    "headlines = remove_stop_words(headlines)\n",
    "headlines = remove_numbers(headlines)\n",
    "headlines = drop_zero_len_string(headlines)\n",
    "\n",
    "summary = lowercase(summary)\n",
    "summary = replace_percent(summary)\n",
    "summary = remove_punctuations(summary)\n",
    "summary = remove_stop_words(summary)\n",
    "summary = remove_numbers(summary)\n",
    "summary = drop_zero_len_string(summary)"
   ]
  },
  {
   "cell_type": "code",
   "execution_count": 208,
   "metadata": {},
   "outputs": [],
   "source": [
    "def frequency_without_tokenize(x):\n",
    "    #text_split = word_tokenize(x)\n",
    "    prob = []\n",
    "    freqDist = FreqDist(x)\n",
    "    words = list(freqDist.keys())\n",
    "    for i in freqDist.values():\n",
    "        prob.append(i/len(x))\n",
    "    return prob"
   ]
  },
  {
   "cell_type": "code",
   "execution_count": 209,
   "metadata": {},
   "outputs": [
    {
     "data": {
      "text/plain": [
       "11"
      ]
     },
     "execution_count": 209,
     "metadata": {},
     "output_type": "execute_result"
    }
   ],
   "source": [
    "len(rdata['Headlines'].iloc[0])"
   ]
  },
  {
   "cell_type": "markdown",
   "metadata": {},
   "source": [
    "# Finding probability of occurence of each word in a sentence or row"
   ]
  },
  {
   "cell_type": "code",
   "execution_count": 210,
   "metadata": {},
   "outputs": [],
   "source": [
    "rdata['Headlines'] = rdata['Headlines'].apply(frequency_without_tokenize)\n",
    "rdata['Summary'] = rdata['Summary'].apply(frequency_without_tokenize)"
   ]
  },
  {
   "cell_type": "markdown",
   "metadata": {},
   "source": [
    "# Finding probability of occurence of each word in entire dataset for each column"
   ]
  },
  {
   "cell_type": "code",
   "execution_count": 213,
   "metadata": {},
   "outputs": [],
   "source": [
    "summary_prob = frequency_without_tokenize(summary)\n",
    "headlines_prob = frequency_without_tokenize(headlines)"
   ]
  },
  {
   "cell_type": "markdown",
   "metadata": {},
   "source": [
    "# Multiply the probability of each word occuring in the sentence with the probability of the same word occuring in the entire column"
   ]
  },
  {
   "cell_type": "code",
   "execution_count": null,
   "metadata": {},
   "outputs": [],
   "source": []
  },
  {
   "cell_type": "code",
   "execution_count": null,
   "metadata": {},
   "outputs": [],
   "source": []
  },
  {
   "cell_type": "code",
   "execution_count": null,
   "metadata": {},
   "outputs": [],
   "source": []
  },
  {
   "cell_type": "code",
   "execution_count": null,
   "metadata": {},
   "outputs": [],
   "source": []
  },
  {
   "cell_type": "code",
   "execution_count": null,
   "metadata": {},
   "outputs": [],
   "source": []
  }
 ],
 "metadata": {
  "kernelspec": {
   "display_name": "Python 3",
   "language": "python",
   "name": "python3"
  },
  "language_info": {
   "codemirror_mode": {
    "name": "ipython",
    "version": 3
   },
   "file_extension": ".py",
   "mimetype": "text/x-python",
   "name": "python",
   "nbconvert_exporter": "python",
   "pygments_lexer": "ipython3",
   "version": "3.6.9"
  }
 },
 "nbformat": 4,
 "nbformat_minor": 2
}
